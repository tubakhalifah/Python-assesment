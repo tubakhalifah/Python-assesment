{
 "cells": [
  {
   "cell_type": "markdown",
   "id": "bfaa2e91",
   "metadata": {},
   "source": [
    "# Monthly Bill Generator\n",
    "This notebook implements a function to generate a monthly billing summary from a list of billing items. It includes date overlap checks, proration of billing amounts, and grouping of similar billing entries."
   ]
  },
  {
   "cell_type": "code",
   "execution_count": null,
   "id": "1eab803b",
   "metadata": {},
   "outputs": [],
   "source": [
    "from datetime import datetime\n",
    "from collections import defaultdict\n",
    "import calendar"
   ]
  },
  {
   "cell_type": "code",
   "execution_count": null,
   "id": "aaf764c1",
   "metadata": {},
   "outputs": [],
   "source": [
    "\n",
    "def generate_monthly_bill(item_list: list, target_month: str) -> dict:\n",
    "    year, month = map(int, target_month.split(\"-\"))\n",
    "    month_start = datetime(year, month, 1).date()\n",
    "    month_end = datetime(year, month, calendar.monthrange(year, month)[1]).date()\n",
    "\n",
    "    groups = defaultdict(lambda: {'qty': 0, 'amount': 0.0})\n",
    "\n",
    "    for item in item_list:\n",
    "        start = datetime.strptime(item['start_date'], \"%Y-%m-%d\").date()\n",
    "        stop = datetime.strptime(item['stop_date'], \"%Y-%m-%d\").date()\n",
    "        rate = float(item['rate'])\n",
    "        qty = int(item['qty'])\n",
    "\n",
    "        # Determine overlap\n",
    "        active_start = max(start, month_start)\n",
    "        active_end = min(stop, month_end)\n",
    "\n",
    "        if active_start > active_end:\n",
    "            continue  # Not active in this month\n",
    "\n",
    "        active_days = (active_end - active_start).days + 1\n",
    "        total_days = (month_end - month_start).days + 1\n",
    "        period = f\"{active_start} to {active_end}\"\n",
    "\n",
    "        prorated_amount = round((active_days / total_days) * rate * qty, 2)\n",
    "\n",
    "        group_key = (item['item_code'], rate, period)\n",
    "        groups[group_key]['qty'] += qty\n",
    "        groups[group_key]['amount'] += prorated_amount\n",
    "\n",
    "    line_items = []\n",
    "    total_revenue = 0.0\n",
    "    for (item_code, rate, billing_period), values in groups.items():\n",
    "        line_items.append({\n",
    "            \"item_code\": item_code,\n",
    "            \"rate\": rate,\n",
    "            \"qty\": values['qty'],\n",
    "            \"amount\": round(values['amount'], 2),\n",
    "            \"billing_period\": billing_period\n",
    "        })\n",
    "        total_revenue += values['amount']\n",
    "\n",
    "    return {\n",
    "        \"line_items\": line_items,\n",
    "        \"total_revenue\": round(total_revenue, 2)\n",
    "    }\n"
   ]
  },
  {
   "cell_type": "code",
   "execution_count": null,
   "id": "0e3e4227",
   "metadata": {},
   "outputs": [],
   "source": [
    "\n",
    "# Example usage\n",
    "items = [\n",
    "    {\"item_code\": \"A101\", \"start_date\": \"2024-01-15\", \"stop_date\": \"2024-03-10\", \"rate\": 100.0, \"qty\": 2},\n",
    "    {\"item_code\": \"A101\", \"start_date\": \"2024-03-01\", \"stop_date\": \"2024-03-31\", \"rate\": 100.0, \"qty\": 1},\n",
    "    {\"item_code\": \"B205\", \"start_date\": \"2024-03-15\", \"stop_date\": \"2024-03-25\", \"rate\": 200.0, \"qty\": 1}\n",
    "]\n",
    "\n",
    "result = generate_monthly_bill(items, \"2024-03\")\n",
    "print(\"Line Items:\")\n",
    "for line in result['line_items']:\n",
    "    print(line)\n",
    "print(\"Total Revenue:\", result['total_revenue'])\n"
   ]
  }
 ],
 "metadata": {},
 "nbformat": 4,
 "nbformat_minor": 5
}
